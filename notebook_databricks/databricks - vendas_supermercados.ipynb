{
 "cells": [
  {
   "cell_type": "markdown",
   "metadata": {
    "application/vnd.databricks.v1+cell": {
     "cellMetadata": {
      "byteLimit": 2048000,
      "rowLimit": 10000
     },
     "inputWidgets": {},
     "nuid": "fe7070e0-b89f-4e56-bef5-c858bc2f008b",
     "showTitle": false,
     "title": ""
    }
   },
   "source": [
    "# Esse notebook tem como objetivo ingestionar e tratar uma base de dados\n"
   ]
  },
  {
   "cell_type": "markdown",
   "metadata": {
    "application/vnd.databricks.v1+cell": {
     "cellMetadata": {
      "byteLimit": 2048000,
      "rowLimit": 10000
     },
     "inputWidgets": {},
     "nuid": "d83a125c-59e9-4f3a-b80f-8a391ca9c370",
     "showTitle": true,
     "title": "Informações sobre o dado utilizado"
    }
   },
   "source": [
    "\n",
    "\n",
    "\n",
    "\n",
    "# Vendas em supermercados\n",
    "\n",
    "link do dataset  https://www.kaggle.com/datasets/aungpyaeap/supermarket-sales\n",
    "#### Registro histórico de dados de vendas em 3 supermercados diferentes\n"
   ]
  },
  {
   "cell_type": "code",
   "execution_count": 0,
   "metadata": {
    "application/vnd.databricks.v1+cell": {
     "cellMetadata": {
      "byteLimit": 2048000,
      "rowLimit": 10000
     },
     "inputWidgets": {},
     "nuid": "f83a14f7-90a7-437d-bba8-ab6a7114ec02",
     "showTitle": true,
     "title": "Importações de Bibliotecas"
    }
   },
   "outputs": [],
   "source": [
    "from pyspark.sql.functions import col\n",
    "from pyspark.sql.types import TimestampType\n",
    "from pyspark.sql.functions import to_timestamp, date_format,to_date,current_timestamp\n",
    "from delta.tables import * "
   ]
  },
  {
   "cell_type": "code",
   "execution_count": 0,
   "metadata": {
    "application/vnd.databricks.v1+cell": {
     "cellMetadata": {
      "byteLimit": 2048000,
      "rowLimit": 10000
     },
     "inputWidgets": {},
     "nuid": "162b9a4b-5b3f-4576-86bd-03d9575e7e73",
     "showTitle": true,
     "title": "Variáveis"
    }
   },
   "outputs": [],
   "source": [
    "file_path = \"dbfs:/FileStore/shared_uploads/correiarafaelsilva@outlook.com/supermarket_sales.csv\"\n",
    "delta_table_full_name = \"tabela_venda_supermercado\"\n",
    "path = '/databricks/driver/'\n",
    "path_df_porcentagem_quantidade_sexo = f\"{path}df_porcentagem_quantidade_sexo\"\n",
    "path_df_total_vendas = f\"{path}df_total_vendas\"\n",
    "path_df_vendas_por_mes = f\"{path}df_vendas_por_mes\"\n",
    "path_df_receita_produtolinha_produto = f\"{path}df_receita_produtolinha_produto\""
   ]
  },
  {
   "cell_type": "code",
   "execution_count": 0,
   "metadata": {
    "application/vnd.databricks.v1+cell": {
     "cellMetadata": {
      "byteLimit": 2048000,
      "rowLimit": 10000
     },
     "inputWidgets": {},
     "nuid": "a67bcfe8-7d4e-41a9-a637-a058b70b9ec3",
     "showTitle": true,
     "title": "Carregando o arquivo "
    }
   },
   "outputs": [],
   "source": [
    "df = spark.read.format(\"csv\")\\\n",
    "    .option(\"header\", \"true\")\\\n",
    "    .load(file_path)"
   ]
  },
  {
   "cell_type": "markdown",
   "metadata": {
    "application/vnd.databricks.v1+cell": {
     "cellMetadata": {
      "byteLimit": 2048000,
      "rowLimit": 10000
     },
     "inputWidgets": {},
     "nuid": "ba0394de-a919-49ad-ab9d-5c8248d95627",
     "showTitle": false,
     "title": ""
    }
   },
   "source": [
    "## Renomear as colunas para nome em português e tipar as colunas"
   ]
  },
  {
   "cell_type": "code",
   "execution_count": 0,
   "metadata": {
    "application/vnd.databricks.v1+cell": {
     "cellMetadata": {
      "byteLimit": 2048000,
      "rowLimit": 10000
     },
     "inputWidgets": {},
     "nuid": "90ca0704-0e0e-4485-951c-7f99fc76c7a8",
     "showTitle": false,
     "title": ""
    }
   },
   "outputs": [],
   "source": [
    "# Renomear as colunas pois no arquivo possui nomes com caracteres especiais\n",
    "df = df.withColumnRenamed(\"Invoice ID\",\"id_fatura\") \\\n",
    "    .withColumnRenamed(\"Branch\",\"supermercado\") \\\n",
    "    .withColumnRenamed(\"City\",\"cidade\")\\\n",
    "    .withColumnRenamed(\"Customer type\",\"tipo_cliente\") \\\n",
    "    .withColumnRenamed(\"Gender\",\"sexo_cliente\") \\\n",
    "    .withColumnRenamed(\"Product line\",\"linha_produto\") \\\n",
    "    .withColumnRenamed(\"Unit price\",\"preco_unitario_dolar\") \\\n",
    "    .withColumnRenamed(\"Quantity\",\"quantidade\") \\\n",
    "    .withColumnRenamed(\"Tax 5%\",\"taxa_imposto\") \\\n",
    "    .withColumnRenamed(\"Total\",\"total_com_imposto\") \\\n",
    "    .withColumnRenamed(\"Date\",\"data_compra\") \\\n",
    "    .withColumnRenamed(\"Time\",\"hora\")\\\n",
    "    .withColumnRenamed(\"Payment\",\"metodo_pagamento\") \\\n",
    "    .withColumnRenamed(\"cogs\",\"custo_produtos_vendidos\") \\\n",
    "    .withColumnRenamed(\"gross margin percentage\",\"margem_percentual\")\\\n",
    "    .withColumnRenamed(\"gross income\",\"receita\")\\\n",
    "    .withColumnRenamed(\"Rating\",\"classificacao_cliente_geral_compra\")"
   ]
  },
  {
   "cell_type": "code",
   "execution_count": 0,
   "metadata": {
    "application/vnd.databricks.v1+cell": {
     "cellMetadata": {
      "byteLimit": 2048000,
      "rowLimit": 10000
     },
     "inputWidgets": {},
     "nuid": "711b97eb-3d62-41a1-9f91-98ed1ea1ddfa",
     "showTitle": false,
     "title": ""
    }
   },
   "outputs": [],
   "source": [
    "# Tirar as colunas calculadas\n",
    "\n",
    "df = df.select(\n",
    "    \"id_fatura\",\\\n",
    "    \"supermercado\",\\\n",
    "    \"cidade\",\\\n",
    "    \"tipo_cliente\",\\\n",
    "    \"sexo_cliente\",\\\n",
    "    \"linha_produto\",\\\n",
    "    \"preco_unitario_dolar\",\\\n",
    "    \"quantidade\",\\\n",
    "    \"taxa_imposto\",\\\n",
    "    \"data_compra\",\\\n",
    "    \"hora\",\\\n",
    "    \"metodo_pagamento\",\\\n",
    "    \"custo_produtos_vendidos\",\\\n",
    "    \"margem_percentual\",\\\n",
    "    \"classificacao_cliente_geral_compra\")"
   ]
  },
  {
   "cell_type": "code",
   "execution_count": 0,
   "metadata": {
    "application/vnd.databricks.v1+cell": {
     "cellMetadata": {
      "byteLimit": 2048000,
      "rowLimit": 10000
     },
     "inputWidgets": {},
     "nuid": "b2be237b-fa25-41c3-a965-042cc228ffcf",
     "showTitle": false,
     "title": ""
    }
   },
   "outputs": [],
   "source": [
    "#Colocar a  tipagem corretar\n",
    "df = df.withColumn(\"preco_unitario_dolar\",col(\"preco_unitario_dolar\").cast(\"Double\"))\\\n",
    "    .withColumn(\"quantidade\",col(\"quantidade\").cast(\"Integer\"))\\\n",
    "    .withColumn(\"taxa_imposto\",col(\"taxa_imposto\").cast(\"Double\"))\\\n",
    "    .withColumn(\"data_compra\", to_date(\"data_compra\", \"M/d/yyyy\"))\\\n",
    "    .withColumn(\"hora\", to_timestamp(\"hora\", \"HH:mm\").cast(TimestampType()))\\\n",
    "    .withColumn(\"hora\", date_format(\"hora\", \"HH:mm\"))\\\n",
    "    .withColumn(\"custo_produtos_vendidos\",col(\"custo_produtos_vendidos\").cast(\"Double\"))\\\n",
    "    .withColumn(\"classificacao_cliente_geral_compra\",col(\"classificacao_cliente_geral_compra\").cast(\"Double\"))\n"
   ]
  },
  {
   "cell_type": "markdown",
   "metadata": {
    "application/vnd.databricks.v1+cell": {
     "cellMetadata": {
      "byteLimit": 2048000,
      "rowLimit": 10000
     },
     "inputWidgets": {},
     "nuid": "156e36a0-fae7-49f9-9f35-0ceb17003fa3",
     "showTitle": false,
     "title": ""
    }
   },
   "source": [
    "# Vou recriar as colunas calculadas \n",
    "## exemplo:\"total_com_imposto\" e tratar os campos nulos com comandos sql"
   ]
  },
  {
   "cell_type": "code",
   "execution_count": 0,
   "metadata": {
    "application/vnd.databricks.v1+cell": {
     "cellMetadata": {
      "byteLimit": 2048000,
      "rowLimit": 10000
     },
     "inputWidgets": {},
     "nuid": "b235966a-e7f1-498e-8934-66afe76d91d5",
     "showTitle": false,
     "title": ""
    }
   },
   "outputs": [],
   "source": [
    "df.createOrReplaceTempView('vendas_supermercado')"
   ]
  },
  {
   "cell_type": "code",
   "execution_count": 0,
   "metadata": {
    "application/vnd.databricks.v1+cell": {
     "cellMetadata": {
      "byteLimit": 2048000,
      "rowLimit": 10000
     },
     "inputWidgets": {},
     "nuid": "e130d7af-cdc7-4469-b18a-2eeaed1f910a",
     "showTitle": false,
     "title": ""
    }
   },
   "outputs": [],
   "source": [
    "df = spark.sql(\"\"\"\n",
    "      \n",
    "      select       \n",
    "        id_fatura,\n",
    "        supermercado,\n",
    "        coalesce(cidade, \"indefinido\") as cidade,\n",
    "        case \n",
    "            when tipo_cliente = \"Member\" then \"membro\"\n",
    "            when tipo_cliente = \"Normal\" then \"normal\"\n",
    "            else \"indefinido\"\n",
    "        end as tipo_cliente,\n",
    "        case\n",
    "            when sexo_cliente = \"Female\" then \"feminino\" \n",
    "            when sexo_cliente = \"Male\" then \"masculino\" \n",
    "            else \"não declarado\"\n",
    "        end as sexo_cliente,\n",
    "        case\n",
    "            when linha_produto = \"Home and lifestyle\" then \"casa e estilo de vida\"\n",
    "            when linha_produto = \"Fashion accessories\" then \"acessorios fashions\"\n",
    "            when linha_produto = \"Health and beauty\" then \"saude e beleza\"\n",
    "            when linha_produto = \"Electronic accessories\" then \"acessorios eletronicos\"\n",
    "            when linha_produto = \"Food and beverages\" then \"Alimentos e bebidas\"\n",
    "            when linha_produto = \"Sports and travel\" then \"esportes e viagens\"\n",
    "            else \"indefinido\"\n",
    "        end as linha_produto,\n",
    "        coalesce(round(preco_unitario_dolar,2),0) as preco_unitario_dolar,\n",
    "        coalesce(round(quantidade,2),0) as quantidade,\n",
    "        coalesce(round(taxa_imposto,2),0) as taxa_imposto,\n",
    "        coalesce(round(((preco_unitario_dolar * quantidade) + taxa_imposto),2),0) as total_com_imposto,\n",
    "        data_compra,\n",
    "        coalesce(hora,\"00:00\") as hora,\n",
    "        case\n",
    "            when metodo_pagamento = \"Ewallet\" then \"carteira eletronica\"\n",
    "            when metodo_pagamento = \"Cash\" then \"dinheiro\"\n",
    "            when metodo_pagamento = \"Credit card\" then \"cartao de credito\"\n",
    "            else \"indefinido\"\n",
    "        end as  metodo_pagamento,\n",
    "        coalesce(round(custo_produtos_vendidos,2),0) as custo_produtos_vendidos,\n",
    "        coalesce(round(margem_percentual,2),0) as margem_percentual,\n",
    "        coalesce(round((((preco_unitario_dolar*quantidade) + taxa_imposto ) - custo_produtos_vendidos),2),0) as receita,\n",
    "        coalesce(classificacao_cliente_geral_compra,0) as classificacao_cliente_geral_compra\n",
    "\n",
    "\n",
    "      from\n",
    "        vendas_supermercado      \n",
    "      \"\"\")\n"
   ]
  },
  {
   "cell_type": "code",
   "execution_count": 0,
   "metadata": {
    "application/vnd.databricks.v1+cell": {
     "cellMetadata": {
      "byteLimit": 2048000,
      "rowLimit": 10000
     },
     "inputWidgets": {},
     "nuid": "bfc86179-1afa-4fba-a589-19fdf6071950",
     "showTitle": true,
     "title": "Adicionando uma coluna de current TimeStamp para termos o controle da data de ingestão"
    }
   },
   "outputs": [],
   "source": [
    "df = df.withColumn(\"process_time\", current_timestamp())"
   ]
  },
  {
   "cell_type": "markdown",
   "metadata": {
    "application/vnd.databricks.v1+cell": {
     "cellMetadata": {
      "byteLimit": 2048000,
      "rowLimit": 10000
     },
     "inputWidgets": {},
     "nuid": "0c99ab79-3521-4900-b747-e9aa2cc1f67e",
     "showTitle": false,
     "title": ""
    }
   },
   "source": [
    "## Criando e gravando em uma tabela delta com o merge usando com paramento append"
   ]
  },
  {
   "cell_type": "code",
   "execution_count": 0,
   "metadata": {
    "application/vnd.databricks.v1+cell": {
     "cellMetadata": {
      "byteLimit": 2048000,
      "rowLimit": 10000
     },
     "inputWidgets": {},
     "nuid": "541cf47c-72a0-487b-9c22-623f3da61764",
     "showTitle": false,
     "title": ""
    }
   },
   "outputs": [
    {
     "output_type": "stream",
     "name": "stdout",
     "output_type": "stream",
     "text": [
      "Out[101]: <delta.tables.DeltaTable at 0x7f9331d2e730>"
     ]
    }
   ],
   "source": [
    "# Criando uma tabela delta\n",
    "DeltaTable.createIfNotExists(spark) \\\n",
    "  .tableName(delta_table_full_name) \\\n",
    "  .addColumns(df.schema) \\\n",
    "  .execute()"
   ]
  },
  {
   "cell_type": "code",
   "execution_count": 0,
   "metadata": {
    "application/vnd.databricks.v1+cell": {
     "cellMetadata": {
      "byteLimit": 2048000,
      "rowLimit": 10000
     },
     "inputWidgets": {},
     "nuid": "613b40e2-9664-4160-b546-e0567cafc9e6",
     "showTitle": false,
     "title": ""
    }
   },
   "outputs": [],
   "source": [
    "# gravando em uma tabela delta\n",
    "df.write.mode(\"overwrite\").saveAsTable(delta_table_full_name)"
   ]
  },
  {
   "cell_type": "markdown",
   "metadata": {
    "application/vnd.databricks.v1+cell": {
     "cellMetadata": {
      "byteLimit": 2048000,
      "rowLimit": 10000
     },
     "inputWidgets": {},
     "nuid": "41dded2d-083d-47ec-8532-3745ad7508aa",
     "showTitle": false,
     "title": ""
    }
   },
   "source": [
    "# Com a tabela criada e salva como delta agora será criada alguns analises"
   ]
  },
  {
   "cell_type": "code",
   "execution_count": 0,
   "metadata": {
    "application/vnd.databricks.v1+cell": {
     "cellMetadata": {
      "byteLimit": 2048000,
      "implicitDf": true,
      "rowLimit": 10000
     },
     "inputWidgets": {},
     "nuid": "19c09e0b-b008-4cd6-87b8-63a9908208ec",
     "showTitle": false,
     "title": ""
    }
   },
   "outputs": [],
   "source": [
    "\n",
    "# Total de vendas das lojas e por cidade\n",
    "\n",
    "df_total_vendas = spark.sql(f\"\"\"\n",
    "select \n",
    "  supermercado,\n",
    "  cidade,\n",
    "  round(sum(total_com_imposto),2) as total_vendas_com_impostos\n",
    "from\n",
    "    {delta_table_full_name}\n",
    "\n",
    "group by \n",
    "  supermercado,\n",
    "  cidade    \n",
    "order by \n",
    "  supermercado,\n",
    "  cidade\n",
    "\"\"\")"
   ]
  },
  {
   "cell_type": "code",
   "execution_count": 0,
   "metadata": {
    "application/vnd.databricks.v1+cell": {
     "cellMetadata": {
      "byteLimit": 2048000,
      "rowLimit": 10000
     },
     "inputWidgets": {},
     "nuid": "96020bfc-61ba-4d5b-873e-d93efcc460a9",
     "showTitle": false,
     "title": ""
    }
   },
   "outputs": [],
   "source": [
    "df_total_vendas.write.mode(\"overwrite\").parquet(path_df_total_vendas)"
   ]
  },
  {
   "cell_type": "code",
   "execution_count": 0,
   "metadata": {
    "application/vnd.databricks.v1+cell": {
     "cellMetadata": {
      "byteLimit": 2048000,
      "implicitDf": true,
      "rowLimit": 10000
     },
     "inputWidgets": {},
     "nuid": "439f22de-f8f5-40f6-b976-9636b7627112",
     "showTitle": false,
     "title": ""
    }
   },
   "outputs": [],
   "source": [
    "# Verificando a base vimos que so tem vendas do ano 2019 então faremos o agrupamento mensal\n",
    "\n",
    "df_vendas_por_mes = spark.sql(f\"\"\"\n",
    "select \n",
    "  supermercado,\n",
    "  date_format(data_compra,\"yyyy-MM\") as mes,\n",
    "  round(sum(total_com_imposto),2) as total_vendas_com_impostos\n",
    "from\n",
    "  {delta_table_full_name}\n",
    "group by \n",
    "  supermercado,\n",
    "  date_format(data_compra,\"yyyy-MM\")\n",
    "order by \n",
    "  supermercado,\n",
    "  date_format(data_compra,\"yyyy-MM\")\n",
    "  \"\"\")"
   ]
  },
  {
   "cell_type": "code",
   "execution_count": 0,
   "metadata": {
    "application/vnd.databricks.v1+cell": {
     "cellMetadata": {
      "byteLimit": 2048000,
      "rowLimit": 10000
     },
     "inputWidgets": {},
     "nuid": "b255d070-a6c7-4bc5-9533-dacec28f4624",
     "showTitle": false,
     "title": ""
    }
   },
   "outputs": [],
   "source": [
    "df_vendas_por_mes.write.mode(\"overwrite\").parquet(path_df_vendas_por_mes)"
   ]
  },
  {
   "cell_type": "code",
   "execution_count": 0,
   "metadata": {
    "application/vnd.databricks.v1+cell": {
     "cellMetadata": {
      "byteLimit": 2048000,
      "implicitDf": true,
      "rowLimit": 10000
     },
     "inputWidgets": {},
     "nuid": "7bafc033-b91d-4a81-b3c6-ee609ebec944",
     "showTitle": false,
     "title": ""
    }
   },
   "outputs": [],
   "source": [
    "# Receita por linha_produto no ano(podemos fazer por mês também)\n",
    "\n",
    "df_receita_produtolinha_produto = spark.sql(f\"\"\"\n",
    "\n",
    "select \n",
    "  supermercado,\n",
    "  linha_produto,\n",
    "  date_format(data_compra,\"yyyy\"),\n",
    "  round(sum(receita),2) as receita_total\n",
    "  \n",
    "from\n",
    "  {delta_table_full_name}\n",
    "group by \n",
    "  supermercado,\n",
    "  date_format(data_compra,\"yyyy\"),\n",
    "  linha_produto  \n",
    "order by supermercado,linha_produto\n",
    "\"\"\")"
   ]
  },
  {
   "cell_type": "code",
   "execution_count": 0,
   "metadata": {
    "application/vnd.databricks.v1+cell": {
     "cellMetadata": {
      "byteLimit": 2048000,
      "rowLimit": 10000
     },
     "inputWidgets": {},
     "nuid": "8bb4a001-8bbb-4f17-b20f-b03d9d62c39e",
     "showTitle": false,
     "title": ""
    }
   },
   "outputs": [],
   "source": [
    "df_receita_produtolinha_produto.write.mode(\"overwrite\").parquet(path_df_receita_produtolinha_produto)"
   ]
  },
  {
   "cell_type": "code",
   "execution_count": 0,
   "metadata": {
    "application/vnd.databricks.v1+cell": {
     "cellMetadata": {
      "byteLimit": 2048000,
      "implicitDf": true,
      "rowLimit": 10000
     },
     "inputWidgets": {},
     "nuid": "d43191ab-0e1a-4be7-b381-e1826b7fd02b",
     "showTitle": false,
     "title": ""
    }
   },
   "outputs": [],
   "source": [
    "# Contagem de vendas da linha_produto pelo sexo dos clientes\n",
    "\n",
    "df_porcentagem_quantidade_sexo = spark.sql(f\"\"\"\n",
    "with\n",
    "venda_total as (\n",
    "select \n",
    "  supermercado,\n",
    "  linha_produto,  \n",
    "  count(id_fatura) as quantidade_de_compras\n",
    "from\n",
    "  {delta_table_full_name}\n",
    "group by \n",
    "  supermercado,\n",
    "  linha_produto\n",
    "order by \n",
    "  supermercado,\n",
    "  linha_produto\n",
    "),\n",
    "venda_por_sexo as ( \n",
    "\n",
    "select \n",
    "  supermercado,\n",
    "  linha_produto,  \n",
    "  sexo_cliente,\n",
    "  count(id_fatura) as quantidade_de_compras_por_sexo\n",
    "from\n",
    "  {delta_table_full_name}\n",
    "group by \n",
    "  supermercado,\n",
    "  linha_produto,\n",
    "  sexo_cliente\n",
    "order by \n",
    "  supermercado,\n",
    "  linha_produto,\n",
    "  sexo_cliente\n",
    "),\n",
    "porcentagem as (\n",
    "  select\n",
    "    vs.supermercado,\n",
    "    vs.linha_produto,\n",
    "    vs.sexo_cliente,\n",
    "    v.quantidade_de_compras as quantidade_total_de_compras_por_linha_produto,\n",
    "    quantidade_de_compras_por_sexo,\n",
    "    round(((100 * vs.quantidade_de_compras_por_sexo)/ v.quantidade_de_compras),0)  as porcentagem_compras_por_sexo\n",
    "  from\n",
    "    venda_total v\n",
    "  inner join\n",
    "    venda_por_sexo vs\n",
    "      on vs.supermercado = v.supermercado \n",
    "        and vs.linha_produto = v.linha_produto\n",
    "\n",
    "  order by \n",
    "    vs.supermercado,\n",
    "    vs.linha_produto,\n",
    "    vs.sexo_cliente\n",
    "\n",
    ")\n",
    "select \n",
    "  supermercado,\n",
    "  linha_produto,\n",
    "  sexo_cliente,\n",
    "  quantidade_total_de_compras_por_linha_produto,\n",
    "  quantidade_de_compras_por_sexo,\n",
    "  porcentagem_compras_por_sexo\n",
    "from \n",
    "  porcentagem\n",
    "  \"\"\")"
   ]
  },
  {
   "cell_type": "code",
   "execution_count": 0,
   "metadata": {
    "application/vnd.databricks.v1+cell": {
     "cellMetadata": {
      "byteLimit": 2048000,
      "rowLimit": 10000
     },
     "inputWidgets": {},
     "nuid": "9ad6a771-ca78-4ee3-8c68-b83fbd13fb28",
     "showTitle": false,
     "title": ""
    }
   },
   "outputs": [],
   "source": [
    "df_porcentagem_quantidade_sexo.write.mode(\"overwrite\").parquet(path_df_vendas_por_mes)"
   ]
  },
  {
   "cell_type": "markdown",
   "metadata": {
    "application/vnd.databricks.v1+cell": {
     "cellMetadata": {},
     "inputWidgets": {},
     "nuid": "77fc294a-0f94-4919-9967-107af79915df",
     "showTitle": false,
     "title": ""
    }
   },
   "source": [
    "Não foi possivel fazer o agendamento do notebook pois o community não dar acesso ao workflow"
   ]
  }
 ],
 "metadata": {
  "application/vnd.databricks.v1+notebook": {
   "dashboards": [
    {
     "elements": [],
     "globalVars": {},
     "guid": "",
     "layoutOption": {
      "grid": true,
      "stack": false
     },
     "nuid": "9d68807c-1b59-4963-84b6-b73db62b6c70",
     "origId": 2196865425787723,
     "title": "vendas total por supermercado",
     "version": "DashboardViewV1",
     "width": 1600
    }
   ],
   "language": "python",
   "notebookMetadata": {
    "mostRecentlyExecutedCommandWithImplicitDF": {
     "commandId": -1,
     "dataframes": [
      "_sqldf"
     ]
    },
    "pythonIndentUnit": 4
   },
   "notebookName": "vendas_supermercados",
   "widgets": {}
  }
 },
 "nbformat": 4,
 "nbformat_minor": 0
}
